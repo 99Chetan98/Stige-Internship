{
 "cells": [
  {
   "cell_type": "code",
   "execution_count": 39,
   "metadata": {},
   "outputs": [
    {
     "name": "stdout",
     "output_type": "stream",
     "text": [
      "[Team\n",
      "SRH     60.714286\n",
      "KKR     57.142857\n",
      "MI      57.142857\n",
      "KXIP    46.428571\n",
      "dtype: float64]\n"
     ]
    }
   ],
   "source": [
    "import numpy as np\n",
    "import pandas as pd\n",
    "\n",
    "ipl18 = pd.DataFrame({'Team': ['SRH', 'CSK', 'KKR', 'RR', 'MI', 'RCB', 'KXIP', 'DD'],\n",
    "                         'Matches': [14, 14, 14, 14, 14, 14, 14, 14],\n",
    "                         'Won': [9, 9, 8, 7, 6, 6, 6, 5],\n",
    "                         'Lost': [5, 5, 6, 7, 8, 8, 8, 9],\n",
    "                         'Tied': [0, 0, 0, 0, 0, 0, 0, 0],\n",
    "                         'N/R': [0, 0, 0, 0, 0, 0, 0, 0],\n",
    "                         'Points': [18, 18, 16, 14, 12, 12, 12, 10],\n",
    "                         'NRR': [0.284, 0.253, -0.070, -0.250, 0.317, 0.129, -0.502, -0.222],\n",
    "                         'For': [2230, 2488, 2363, 2130, 2380, 2322, 2210, 2297],\n",
    "                         'Against': [2193, 2433, 2425, 2141, 2282, 2383, 2259, 2304]},\n",
    "                         index = range(1,9)\n",
    "                    )\n",
    "\n",
    "ipl18\n",
    "ipl17 = pd.DataFrame({'Team': ['MI', 'RPS', 'SRH', 'KKR', 'KXIP', 'DD', 'GL', 'RCB'],\n",
    "                         'Matches': [14, 14, 14, 14, 14, 14, 14, 14],\n",
    "                         'Won': [10, 9, 8, 8, 7, 6, 4, 3],\n",
    "                         'Lost': [4, 5, 5, 6, 7, 8, 10, 10],\n",
    "                         'Tied': [0, 0, 0, 0, 0, 0, 0, 0],\n",
    "                         'N/R': [0, 0, 1, 0, 0, 0, 0, 1],\n",
    "                         'Points': [20, 18, 17, 16, 14, 12, 8, 7],\n",
    "                         'NRR': [0.784, 0.176, 0.469, 0.641, 0.123, -0.512, -0.412, -1.299],\n",
    "                         'For': [2407, 2180, 2221, 2329, 2207, 2219, 2406, 1845],\n",
    "                         'Against': [2242, 2165, 2118, 2300, 2229, 2255, 2472, 2033]},\n",
    "                         index = range(1,9)\n",
    "                    )\n",
    "\n",
    "ipl17\n",
    "\n",
    "\"\"\"\n",
    "Q2. If all the stats are taken for both ‘ipl17’ and ‘ipl18’, \n",
    "which team with its total points greater than 25 will have the highest win percentage\n",
    "\"\"\"\n",
    "#Solution of Question 2\n",
    "combined_table = pd.concat([ipl17,ipl18]).groupby('Team').sum().sort_values('Points', ascending=False)\n",
    "df= combined_table.loc[(combined_table['Points'] > 25)]\n",
    "print([(df['Won'] / df['Matches'] * 100)])"
   ]
  },
  {
   "cell_type": "code",
   "execution_count": null,
   "metadata": {},
   "outputs": [],
   "source": [
    "Answer = SRH"
   ]
  }
 ],
 "metadata": {
  "kernelspec": {
   "display_name": "Python 3 (ipykernel)",
   "language": "python",
   "name": "python3"
  },
  "language_info": {
   "codemirror_mode": {
    "name": "ipython",
    "version": 3
   },
   "file_extension": ".py",
   "mimetype": "text/x-python",
   "name": "python",
   "nbconvert_exporter": "python",
   "pygments_lexer": "ipython3",
   "version": "3.9.7"
  }
 },
 "nbformat": 4,
 "nbformat_minor": 2
}
